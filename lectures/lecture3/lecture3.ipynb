{
 "cells": [
  {
   "cell_type": "code",
   "execution_count": 1,
   "metadata": {},
   "outputs": [],
   "source": [
    "##################################################################################################\n",
    "## Libraries\n",
    "##################################################################################################\n",
    "\n",
    "import sys\n",
    "from pathlib import Path\n",
    "import cv2\n",
    "import numpy as np\n",
    "import matplotlib.pyplot as plt"
   ]
  },
  {
   "cell_type": "code",
   "execution_count": 2,
   "metadata": {},
   "outputs": [
    {
     "data": {
      "image/png": "[encoded data removed]",
      "text/plain": [
       "<Figure size 640x480 with 1 Axes>"
      ]
     },
     "metadata": {},
     "output_type": "display_data"
    }
   ],
   "source": [
    "\n",
    "# create random image\n",
    "random_image = np.random.randint(255, size=(500,500), dtype=np.uint8)\n",
    "\n",
    "# show iamge\n",
    "cv2.imshow('Random Image', random_image)\n",
    "\n",
    "\n",
    "# create random image\n",
    "dark_image = np.random.randint(50, size=(500,500), dtype=np.uint8)\n",
    "\n",
    "# show iamge\n",
    "cv2.imshow('Dark Image', dark_image)\n",
    "\n",
    "\n",
    "# create random image\n",
    "light_image = np.random.randint(low=205, high=255, size=(500,500), dtype=np.uint8)\n",
    "\n",
    "cv2.imshow('Light Image', light_image)\n",
    "\n",
    "\n",
    "\n",
    "# image histogram\n",
    "plt.hist(x=random_image.ravel(), bins=256, range=[0, 256], label='original')\n",
    "plt.hist(x=dark_image.ravel(), bins=256, range=[0, 256], label='dark')\n",
    "plt.hist(x=light_image.ravel(), bins=256, range=[0, 256], label='light')\n",
    "plt.legend()\n",
    "plt.show()\n",
    "\n"
   ]
  },
  {
   "cell_type": "code",
   "execution_count": null,
   "metadata": {},
   "outputs": [],
   "source": [
    "## histogram equalization\n",
    "\n",
    "# equalize images\n",
    "equalize_rand_img = cv2.equalizeHist(random_image)\n",
    "cv2.imshow('Random Image (equalized)', equalize_rand_img)\n",
    "cv2.waitKey(1000) \n",
    "cv2.destroyAllWindows()\n",
    "\n",
    "equalize_light_img = cv2.equalizeHist(light_image)\n",
    "cv2.imshow('Light Image (equalized)', equalize_light_img)\n",
    "cv2.waitKey(1000) \n",
    "cv2.destroyAllWindows()\n",
    "\n",
    "equalize_dark_img = cv2.equalizeHist(dark_image)\n",
    "cv2.imshow('Dark Image (equalized)', equalize_dark_img)\n",
    "cv2.waitKey(1000) \n",
    "cv2.destroyAllWindows()\n",
    "\n",
    "# image histograms\n",
    "plt.hist(x=equalize_rand_img.ravel(), bins=256, range=[0, 256], label='original')\n",
    "plt.hist(x=equalize_light_img.ravel(), bins=256, range=[0, 256], label='light')\n",
    "plt.hist(x=equalize_dark_img.ravel(), bins=256, range=[0, 256], label='dark')\n",
    "plt.legend()\n",
    "plt.show()\n",
    "\n"
   ]
  },
  {
   "cell_type": "code",
   "execution_count": null,
   "metadata": {},
   "outputs": [],
   "source": [
    "## equalizing mixed light and dark images\n",
    "\n",
    "# concatonate light and dark images\n",
    "light_dark_image = np.concatenate((light_image, dark_image), axis=1)\n",
    "cv2.imshow('Light/Dark Image', light_dark_image)\n",
    "cv2.waitKey(1000) \n",
    "cv2.destroyAllWindows()\n",
    "\n",
    "equalize_light_dark_img = cv2.equalizeHist(light_dark_image)\n",
    "cv2.imshow('Light/Dark Image (equalized)', equalize_light_dark_img)\n",
    "cv2.waitKey(1000) \n",
    "cv2.destroyAllWindows()\n",
    "\n",
    "# histogram\n",
    "plt.hist(x=light_dark_image.ravel(), bins=256, range=[0, 256], label='original')\n",
    "plt.hist(x=equalize_light_dark_img.ravel(), bins=256, range=[0, 256], label='equalized')\n",
    "plt.legend()\n",
    "plt.show()"
   ]
  }
 ],
 "metadata": {
  "kernelspec": {
   "display_name": "CS5330",
   "language": "python",
   "name": "python3"
  },
  "language_info": {
   "codemirror_mode": {
    "name": "ipython",
    "version": 3
   },
   "file_extension": ".py",
   "mimetype": "text/x-python",
   "name": "python",
   "nbconvert_exporter": "python",
   "pygments_lexer": "ipython3",
   "version": "3.12.3"
  }
 },
 "nbformat": 4,
 "nbformat_minor": 2
}
